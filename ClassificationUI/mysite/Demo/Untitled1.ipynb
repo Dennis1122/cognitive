{
 "cells": [
  {
   "cell_type": "code",
   "execution_count": 1,
   "metadata": {
    "collapsed": true
   },
   "outputs": [],
   "source": [
    "from WK_Main_FinalV08 import pdf_process"
   ]
  },
  {
   "cell_type": "code",
   "execution_count": 3,
   "metadata": {
    "collapsed": false
   },
   "outputs": [
    {
     "name": "stdout",
     "output_type": "stream",
     "text": [
      "{u'casenumber_cs': 0.706974412776, u'lawsuit_cs': 0.87, u'jurisdiction': u'COLORADO', u'dftd_cs': 0, u'casenumber': u'2014CV032020', u'jurisdiction_cs': 0.8, u'pltf': u'Frank Pike, Individually, Pltf.', u'attachment_cs': 0.41333333333333333, u'esop_id': 1, u'attachment': u'TRANSMITTAL#ATTACHMENT#SUBPOENA', u'pltf_cs': 0.6349074074074075, u'lawsuit': u'Subpoena', u'dftd': u'S John Does, Dft.'}\n"
     ]
    }
   ],
   "source": [
    "result = pdf_process('/home/983869/Desktop/Docs/525656482_Subpoena_CO_Phone.pdf')"
   ]
  },
  {
   "cell_type": "code",
   "execution_count": 6,
   "metadata": {
    "collapsed": false
   },
   "outputs": [
    {
     "data": {
      "text/plain": [
       "u'TRANSMITTAL#ATTACHMENT#SUBPOENA'"
      ]
     },
     "execution_count": 6,
     "metadata": {},
     "output_type": "execute_result"
    }
   ],
   "source": [
    "result['attachment']"
   ]
  }
 ],
 "metadata": {
  "kernelspec": {
   "display_name": "Python 2",
   "language": "python",
   "name": "python2"
  },
  "language_info": {
   "codemirror_mode": {
    "name": "ipython",
    "version": 2
   },
   "file_extension": ".py",
   "mimetype": "text/x-python",
   "name": "python",
   "nbconvert_exporter": "python",
   "pygments_lexer": "ipython2",
   "version": "2.7.13"
  }
 },
 "nbformat": 4,
 "nbformat_minor": 2
}
